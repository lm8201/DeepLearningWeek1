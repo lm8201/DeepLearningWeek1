{
  "nbformat": 4,
  "nbformat_minor": 0,
  "metadata": {
    "colab": {
      "name": "DeepLearningWeek1.ipynb",
      "provenance": [],
      "authorship_tag": "ABX9TyPliT1OfbhTe/UXw7N+r1Jm",
      "include_colab_link": true
    },
    "kernelspec": {
      "name": "python3",
      "display_name": "Python 3"
    },
    "language_info": {
      "name": "python"
    }
  },
  "cells": [
    {
      "cell_type": "markdown",
      "metadata": {
        "id": "view-in-github",
        "colab_type": "text"
      },
      "source": [
        "<a href=\"https://colab.research.google.com/github/lm8201/DeepLearningWeek1/blob/main/DeepLearningWeek1.ipynb\" target=\"_parent\"><img src=\"https://colab.research.google.com/assets/colab-badge.svg\" alt=\"Open In Colab\"/></a>"
      ]
    },
    {
      "cell_type": "markdown",
      "metadata": {
        "id": "l7NH2Q0XwrNU"
      },
      "source": [
        "Deep Learning Week 1, LeeAnn Markwalter"
      ]
    },
    {
      "cell_type": "code",
      "metadata": {
        "id": "n2JHkx35w8vT"
      },
      "source": [
        "import pandas as pd"
      ],
      "execution_count": 1,
      "outputs": []
    },
    {
      "cell_type": "code",
      "metadata": {
        "id": "bg_BECcSMn5r"
      },
      "source": [
        "df = pd.read_csv('life_expectancies.csv')"
      ],
      "execution_count": 16,
      "outputs": []
    },
    {
      "cell_type": "code",
      "metadata": {
        "colab": {
          "base_uri": "https://localhost:8080/",
          "height": 414
        },
        "id": "plwUaPZ6VphR",
        "outputId": "04a4bd02-9ec3-44ee-a3f0-8df2bf7343c1"
      },
      "source": [
        "df"
      ],
      "execution_count": 17,
      "outputs": [
        {
          "output_type": "execute_result",
          "data": {
            "text/html": [
              "<div>\n",
              "<style scoped>\n",
              "    .dataframe tbody tr th:only-of-type {\n",
              "        vertical-align: middle;\n",
              "    }\n",
              "\n",
              "    .dataframe tbody tr th {\n",
              "        vertical-align: top;\n",
              "    }\n",
              "\n",
              "    .dataframe thead th {\n",
              "        text-align: right;\n",
              "    }\n",
              "</style>\n",
              "<table border=\"1\" class=\"dataframe\">\n",
              "  <thead>\n",
              "    <tr style=\"text-align: right;\">\n",
              "      <th></th>\n",
              "      <th>Year</th>\n",
              "      <th>Race</th>\n",
              "      <th>Sex</th>\n",
              "      <th>Average Life Expectancy (Years)</th>\n",
              "      <th>Age-adjusted Death Rate</th>\n",
              "    </tr>\n",
              "  </thead>\n",
              "  <tbody>\n",
              "    <tr>\n",
              "      <th>0</th>\n",
              "      <td>1900</td>\n",
              "      <td>All Races</td>\n",
              "      <td>Both Sexes</td>\n",
              "      <td>47.3</td>\n",
              "      <td>2518.0</td>\n",
              "    </tr>\n",
              "    <tr>\n",
              "      <th>1</th>\n",
              "      <td>1901</td>\n",
              "      <td>All Races</td>\n",
              "      <td>Both Sexes</td>\n",
              "      <td>49.1</td>\n",
              "      <td>2473.1</td>\n",
              "    </tr>\n",
              "    <tr>\n",
              "      <th>2</th>\n",
              "      <td>1902</td>\n",
              "      <td>All Races</td>\n",
              "      <td>Both Sexes</td>\n",
              "      <td>51.5</td>\n",
              "      <td>2301.3</td>\n",
              "    </tr>\n",
              "    <tr>\n",
              "      <th>3</th>\n",
              "      <td>1903</td>\n",
              "      <td>All Races</td>\n",
              "      <td>Both Sexes</td>\n",
              "      <td>50.5</td>\n",
              "      <td>2379.0</td>\n",
              "    </tr>\n",
              "    <tr>\n",
              "      <th>4</th>\n",
              "      <td>1904</td>\n",
              "      <td>All Races</td>\n",
              "      <td>Both Sexes</td>\n",
              "      <td>47.6</td>\n",
              "      <td>2502.5</td>\n",
              "    </tr>\n",
              "    <tr>\n",
              "      <th>...</th>\n",
              "      <td>...</td>\n",
              "      <td>...</td>\n",
              "      <td>...</td>\n",
              "      <td>...</td>\n",
              "      <td>...</td>\n",
              "    </tr>\n",
              "    <tr>\n",
              "      <th>1066</th>\n",
              "      <td>2014</td>\n",
              "      <td>White</td>\n",
              "      <td>Male</td>\n",
              "      <td>76.7</td>\n",
              "      <td>853.4</td>\n",
              "    </tr>\n",
              "    <tr>\n",
              "      <th>1067</th>\n",
              "      <td>2015</td>\n",
              "      <td>White</td>\n",
              "      <td>Male</td>\n",
              "      <td>76.6</td>\n",
              "      <td>861.9</td>\n",
              "    </tr>\n",
              "    <tr>\n",
              "      <th>1068</th>\n",
              "      <td>2016</td>\n",
              "      <td>White</td>\n",
              "      <td>Male</td>\n",
              "      <td>76.4</td>\n",
              "      <td>858.9</td>\n",
              "    </tr>\n",
              "    <tr>\n",
              "      <th>1069</th>\n",
              "      <td>2017</td>\n",
              "      <td>White</td>\n",
              "      <td>Male</td>\n",
              "      <td>76.4</td>\n",
              "      <td>863.4</td>\n",
              "    </tr>\n",
              "    <tr>\n",
              "      <th>1070</th>\n",
              "      <td>2018</td>\n",
              "      <td>White</td>\n",
              "      <td>Male</td>\n",
              "      <td>NaN</td>\n",
              "      <td>853.1</td>\n",
              "    </tr>\n",
              "  </tbody>\n",
              "</table>\n",
              "<p>1071 rows × 5 columns</p>\n",
              "</div>"
            ],
            "text/plain": [
              "      Year       Race  ... Average Life Expectancy (Years)  Age-adjusted Death Rate\n",
              "0     1900  All Races  ...                            47.3                   2518.0\n",
              "1     1901  All Races  ...                            49.1                   2473.1\n",
              "2     1902  All Races  ...                            51.5                   2301.3\n",
              "3     1903  All Races  ...                            50.5                   2379.0\n",
              "4     1904  All Races  ...                            47.6                   2502.5\n",
              "...    ...        ...  ...                             ...                      ...\n",
              "1066  2014      White  ...                            76.7                    853.4\n",
              "1067  2015      White  ...                            76.6                    861.9\n",
              "1068  2016      White  ...                            76.4                    858.9\n",
              "1069  2017      White  ...                            76.4                    863.4\n",
              "1070  2018      White  ...                             NaN                    853.1\n",
              "\n",
              "[1071 rows x 5 columns]"
            ]
          },
          "metadata": {},
          "execution_count": 17
        }
      ]
    },
    {
      "cell_type": "code",
      "metadata": {
        "colab": {
          "base_uri": "https://localhost:8080/",
          "height": 294
        },
        "id": "mSo1VquLVqOx",
        "outputId": "c41e45b5-691f-4c72-97b8-e5fdc208c943"
      },
      "source": [
        "df.describe()"
      ],
      "execution_count": 18,
      "outputs": [
        {
          "output_type": "execute_result",
          "data": {
            "text/html": [
              "<div>\n",
              "<style scoped>\n",
              "    .dataframe tbody tr th:only-of-type {\n",
              "        vertical-align: middle;\n",
              "    }\n",
              "\n",
              "    .dataframe tbody tr th {\n",
              "        vertical-align: top;\n",
              "    }\n",
              "\n",
              "    .dataframe thead th {\n",
              "        text-align: right;\n",
              "    }\n",
              "</style>\n",
              "<table border=\"1\" class=\"dataframe\">\n",
              "  <thead>\n",
              "    <tr style=\"text-align: right;\">\n",
              "      <th></th>\n",
              "      <th>Year</th>\n",
              "      <th>Average Life Expectancy (Years)</th>\n",
              "      <th>Age-adjusted Death Rate</th>\n",
              "    </tr>\n",
              "  </thead>\n",
              "  <tbody>\n",
              "    <tr>\n",
              "      <th>count</th>\n",
              "      <td>1071.000000</td>\n",
              "      <td>1065.000000</td>\n",
              "      <td>1071.000000</td>\n",
              "    </tr>\n",
              "    <tr>\n",
              "      <th>mean</th>\n",
              "      <td>1959.000000</td>\n",
              "      <td>64.500188</td>\n",
              "      <td>1593.061625</td>\n",
              "    </tr>\n",
              "    <tr>\n",
              "      <th>std</th>\n",
              "      <td>34.367176</td>\n",
              "      <td>11.843765</td>\n",
              "      <td>682.369379</td>\n",
              "    </tr>\n",
              "    <tr>\n",
              "      <th>min</th>\n",
              "      <td>1900.000000</td>\n",
              "      <td>29.100000</td>\n",
              "      <td>611.300000</td>\n",
              "    </tr>\n",
              "    <tr>\n",
              "      <th>25%</th>\n",
              "      <td>1929.000000</td>\n",
              "      <td>57.100000</td>\n",
              "      <td>1012.950000</td>\n",
              "    </tr>\n",
              "    <tr>\n",
              "      <th>50%</th>\n",
              "      <td>1959.000000</td>\n",
              "      <td>66.800000</td>\n",
              "      <td>1513.700000</td>\n",
              "    </tr>\n",
              "    <tr>\n",
              "      <th>75%</th>\n",
              "      <td>1989.000000</td>\n",
              "      <td>73.900000</td>\n",
              "      <td>2057.150000</td>\n",
              "    </tr>\n",
              "    <tr>\n",
              "      <th>max</th>\n",
              "      <td>2018.000000</td>\n",
              "      <td>81.400000</td>\n",
              "      <td>3845.700000</td>\n",
              "    </tr>\n",
              "  </tbody>\n",
              "</table>\n",
              "</div>"
            ],
            "text/plain": [
              "              Year  Average Life Expectancy (Years)  Age-adjusted Death Rate\n",
              "count  1071.000000                      1065.000000              1071.000000\n",
              "mean   1959.000000                        64.500188              1593.061625\n",
              "std      34.367176                        11.843765               682.369379\n",
              "min    1900.000000                        29.100000               611.300000\n",
              "25%    1929.000000                        57.100000              1012.950000\n",
              "50%    1959.000000                        66.800000              1513.700000\n",
              "75%    1989.000000                        73.900000              2057.150000\n",
              "max    2018.000000                        81.400000              3845.700000"
            ]
          },
          "metadata": {},
          "execution_count": 18
        }
      ]
    },
    {
      "cell_type": "markdown",
      "metadata": {
        "id": "aqp8RKljIiwq"
      },
      "source": [
        "The summary statistics for the Average Life Expectancy (Years) variable provides valuable insights about the distrubtion of the dataset. First, there is a signifant difference between the maximum average life expectancy (81.4 years) and minimum average life expectancy (29.1 years). This highlights the disparities of health based on gender, time period, and race. Furthermore, the mean summary statistic tells us that the average life expectancy across all times, races, and genders is 64.5 years. "
      ]
    },
    {
      "cell_type": "markdown",
      "metadata": {
        "id": "KP3c6u1PMg_8"
      },
      "source": [
        "I do not think that additional processing of the dataset is needed to improve relaibility of the summary statistics. This is because the summary statistics as displayed are useful for anlaysis and make sense in the context of the information that the dataset is providing. However, in future analysis it would be informative to obtain the summary statistics for more speicific variables. For instance, it would be interting to compare the average life expectancies and death rates overtime based on gender and rate. "
      ]
    },
    {
      "cell_type": "code",
      "metadata": {
        "id": "OH7RKpfpMmOw"
      },
      "source": [
        ""
      ],
      "execution_count": null,
      "outputs": []
    }
  ]
}